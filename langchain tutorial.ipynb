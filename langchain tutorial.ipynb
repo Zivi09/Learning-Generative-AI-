{
 "cells": [
  {
   "cell_type": "markdown",
   "metadata": {},
   "source": [
    "Installation\n",
    "\n",
    "Ensure you have the langchain and langchain_google_genai libraries installed. You can install them using pip:\n",
    "\n",
    "bash\n",
    "Insert Code\n",
    "Edit\n",
    "Copy code\n",
    "pip install langchain langchain-google-genai"
   ]
  },
  {
   "cell_type": "code",
   "execution_count": 1,
   "metadata": {},
   "outputs": [],
   "source": [
    "import getpass\n",
    "import os\n",
    "\n",
    "if \"GOOGLE_API_KEY\" not in os.environ:\n",
    "    os.environ[\"GOOGLE_API_KEY\"] = getpass.getpass(\"Provide your Google API Key\")"
   ]
  },
  {
   "cell_type": "markdown",
   "metadata": {},
   "source": [
    "The code checks if the GOOGLE_API_KEY environment variable is set. If it isn't, it prompts the user to securely enter their Google API key using the getpass module, which hides the input. This approach helps keep sensitive information like API keys secure and prevents hardcoding them in the source code"
   ]
  },
  {
   "cell_type": "code",
   "execution_count": 2,
   "metadata": {},
   "outputs": [],
   "source": [
    "from langchain_google_genai import ChatGoogleGenerativeAI\n"
   ]
  },
  {
   "cell_type": "markdown",
   "metadata": {},
   "source": [
    "ChatGoogleGenerativeAI is a component of the LangChain framework that allows you to interact with Google's generative AI capabilities.\n",
    "\n",
    "It enables you to create conversational agents that can generate responses based on user input."
   ]
  },
  {
   "cell_type": "code",
   "execution_count": 3,
   "metadata": {},
   "outputs": [],
   "source": [
    "llm = ChatGoogleGenerativeAI(model=\"gemini-pro\")\n",
    "result = llm.invoke"
   ]
  },
  {
   "cell_type": "code",
   "execution_count": 4,
   "metadata": {},
   "outputs": [
    {
     "name": "stderr",
     "output_type": "stream",
     "text": [
      "c:\\Users\\Ziven\\AppData\\Local\\Programs\\Python\\Python312\\Lib\\site-packages\\langchain_core\\_api\\deprecation.py:139: LangChainDeprecationWarning: The method `BaseChatModel.__call__` was deprecated in langchain-core 0.1.7 and will be removed in 0.3.0. Use invoke instead.\n",
      "  warn_deprecated(\n",
      "c:\\Users\\Ziven\\AppData\\Local\\Programs\\Python\\Python312\\Lib\\site-packages\\langchain_google_genai\\chat_models.py:350: UserWarning: Convert_system_message_to_human will be deprecated!\n",
      "  warnings.warn(\"Convert_system_message_to_human will be deprecated!\")\n"
     ]
    },
    {
     "data": {
      "text/plain": [
       "AIMessage(content='Yes', response_metadata={'prompt_feedback': {'block_reason': 0, 'safety_ratings': []}, 'finish_reason': 'STOP', 'safety_ratings': [{'category': 'HARM_CATEGORY_SEXUALLY_EXPLICIT', 'probability': 'NEGLIGIBLE', 'blocked': False}, {'category': 'HARM_CATEGORY_HATE_SPEECH', 'probability': 'NEGLIGIBLE', 'blocked': False}, {'category': 'HARM_CATEGORY_HARASSMENT', 'probability': 'NEGLIGIBLE', 'blocked': False}, {'category': 'HARM_CATEGORY_DANGEROUS_CONTENT', 'probability': 'NEGLIGIBLE', 'blocked': False}]}, id='run-921d18ab-efcb-4440-aac1-789a73ce192d-0', usage_metadata={'input_tokens': 12, 'output_tokens': 1, 'total_tokens': 13})"
      ]
     },
     "execution_count": 4,
     "metadata": {},
     "output_type": "execute_result"
    }
   ],
   "source": [
    "from langchain_core.messages import HumanMessage, SystemMessage\n",
    "\n",
    "model = ChatGoogleGenerativeAI(model=\"gemini-pro\", convert_system_message_to_human=True)\n",
    "model(\n",
    "    [\n",
    "        SystemMessage(content=\"Answer only yes or no.\"),\n",
    "        HumanMessage(content=\"Is apple a fruit?\"),\n",
    "    ]\n",
    ")"
   ]
  },
  {
   "cell_type": "markdown",
   "metadata": {},
   "source": [
    "Importing Messages:\n",
    "\n",
    "HumanMessage and SystemMessage are imported from langchain_core.messages to define messages in the conversation.\n",
    "Model Initialization:\n",
    "\n",
    "An instance of ChatGoogleGenerativeAI is created with the parameter convert_system_message_to_human=True. This setting indicates that system messages (instructions for the AI) should be treated as human messages.\n",
    "Model Invocation:\n",
    "\n",
    "The model is called with a list of messages:\n",
    "A SystemMessage instructs the AI to \"Answer only yes or no.\"\n",
    "A HumanMessage asks, \"Is apple a fruit?\"\n",
    "Output:\n",
    "\n",
    "The model processes these messages and generates a response based on the instructions provided.\n",
    "In summary, this code sets up a simple interaction where the AI is instructed to respond with a \"yes\" or \"no\" to a question about apples being a fruit.\n",
    "\n",
    "\n"
   ]
  },
  {
   "cell_type": "code",
   "execution_count": 5,
   "metadata": {},
   "outputs": [
    {
     "name": "stdout",
     "output_type": "stream",
     "text": [
      "{'batchcomplete': '', 'continue': {'sroffset': 10, 'continue': '-||'}, 'query': {'searchinfo': {'totalhits': 5671}, 'search': [{'ns': 0, 'title': 'Python (programming language)', 'pageid': 23862, 'size': 172061, 'wordcount': 13862, 'snippet': '<span class=\"searchmatch\">Python</span> is a high-level, general-purpose <span class=\"searchmatch\">programming</span> language. Its design philosophy emphasizes code readability with the use of significant indentation', 'timestamp': '2024-10-31T11:53:07Z'}, {'ns': 0, 'title': 'History of Python', 'pageid': 21356332, 'size': 50216, 'wordcount': 3611, 'snippet': 'The <span class=\"searchmatch\">programming</span> language <span class=\"searchmatch\">Python</span> was conceived in the late 1980s, and its implementation was started in December 1989 by Guido van Rossum at CWI in the', 'timestamp': '2024-10-17T06:14:53Z'}, {'ns': 0, 'title': 'Python', 'pageid': 46332325, 'size': 1987, 'wordcount': 274, 'snippet': 'and Australia <span class=\"searchmatch\">Python</span> (genus), a genus of Pythonidae found in Africa and Asia <span class=\"searchmatch\">Python</span> (mythology), a mythical serpent <span class=\"searchmatch\">Python</span> (<span class=\"searchmatch\">programming</span> language), a widely', 'timestamp': '2024-10-05T22:31:39Z'}, {'ns': 0, 'title': 'Python syntax and semantics', 'pageid': 5250192, 'size': 60039, 'wordcount': 6792, 'snippet': 'The syntax of the <span class=\"searchmatch\">Python</span> <span class=\"searchmatch\">programming</span> language is the set of rules that defines how a <span class=\"searchmatch\">Python</span> <span class=\"searchmatch\">program</span> will be written and interpreted (by both the runtime', 'timestamp': '2024-11-03T13:54:19Z'}, {'ns': 0, 'title': 'Mojo (programming language)', 'pageid': 73729965, 'size': 16927, 'wordcount': 1409, 'snippet': 'Mojo is a <span class=\"searchmatch\">programming</span> language in the <span class=\"searchmatch\">Python</span> family that is currently under development. It is available both in browsers via Jupyter notebooks, and locally', 'timestamp': '2024-10-18T09:21:26Z'}, {'ns': 0, 'title': 'Zen of Python', 'pageid': 46448252, 'size': 10980, 'wordcount': 1092, 'snippet': '<span class=\"searchmatch\">Python</span> is a collection of 19 &quot;guiding principles&quot; for writing computer <span class=\"searchmatch\">programs</span> that influence the design of the <span class=\"searchmatch\">Python</span> <span class=\"searchmatch\">programming</span> language. <span class=\"searchmatch\">Python</span> code', 'timestamp': '2024-06-11T03:01:03Z'}, {'ns': 0, 'title': 'List of Python software', 'pageid': 3673376, 'size': 32733, 'wordcount': 3530, 'snippet': 'The <span class=\"searchmatch\">Python</span> <span class=\"searchmatch\">programming</span> language is actively used by many people, both in industry and academia, for a wide variety of purposes. Atom, an open source cross-platform', 'timestamp': '2024-09-19T17:50:37Z'}, {'ns': 0, 'title': 'Python Software Foundation', 'pageid': 696712, 'size': 7025, 'wordcount': 590, 'snippet': 'The <span class=\"searchmatch\">Python</span> Software Foundation (PSF) is an American nonprofit organization devoted to the <span class=\"searchmatch\">Python</span> <span class=\"searchmatch\">programming</span> language, launched on March 6, 2001. The mission', 'timestamp': '2024-04-11T21:08:45Z'}, {'ns': 0, 'title': 'Stackless Python', 'pageid': 2009536, 'size': 6377, 'wordcount': 532, 'snippet': 'Stackless <span class=\"searchmatch\">Python</span>, or Stackless, is a <span class=\"searchmatch\">Python</span> <span class=\"searchmatch\">programming</span> language interpreter, so named because it avoids depending on the C call stack for its own stack', 'timestamp': '2024-10-04T18:16:30Z'}, {'ns': 0, 'title': 'Anaconda (Python distribution)', 'pageid': 43003632, 'size': 14787, 'wordcount': 1294, 'snippet': 'Anaconda is a distribution of the <span class=\"searchmatch\">Python</span> and R <span class=\"searchmatch\">programming</span> languages for scientific computing (data science, machine learning applications, large-scale', 'timestamp': '2024-08-30T16:20:46Z'}]}}\n"
     ]
    }
   ],
   "source": [
    "import requests\n",
    "\n",
    "def search_wikipedia(query):\n",
    "    api_url = \"https://en.wikipedia.org/w/api.php\"\n",
    "    params = {\n",
    "        'action': 'query',\n",
    "        'list': 'search',\n",
    "        'srsearch': query,\n",
    "        'format': 'json'\n",
    "    }\n",
    "    response = requests.get(api_url, params=params)\n",
    "    if response.status_code == 200:\n",
    "        return response.json()\n",
    "    else:\n",
    "        print(f\"Failed to fetch data. Status code: {response.status_code}\")\n",
    "        return None\n",
    "\n",
    "# Example usage\n",
    "query = \"Python programming\"\n",
    "search_results = search_wikipedia(query)\n",
    "print(search_results)\n"
   ]
  },
  {
   "cell_type": "markdown",
   "metadata": {},
   "source": [
    "This code provides a simple way to search Wikipedia programmatically. When you call search_wikipedia(\"Python programming\"), it will return a JSON object containing search results related to Python programming, which you can then process or display as needed. If the API call fails, it will print an error message indicating the failure."
   ]
  },
  {
   "cell_type": "code",
   "execution_count": 7,
   "metadata": {},
   "outputs": [
    {
     "name": "stdout",
     "output_type": "stream",
     "text": [
      "{'type': 'standard', 'title': 'Python (programming language)', 'displaytitle': '<span class=\"mw-page-title-main\">Python (programming language)</span>', 'namespace': {'id': 0, 'text': ''}, 'wikibase_item': 'Q28865', 'titles': {'canonical': 'Python_(programming_language)', 'normalized': 'Python (programming language)', 'display': '<span class=\"mw-page-title-main\">Python (programming language)</span>'}, 'pageid': 23862, 'thumbnail': {'source': 'https://upload.wikimedia.org/wikipedia/commons/thumb/c/c3/Python-logo-notext.svg/320px-Python-logo-notext.svg.png', 'width': 320, 'height': 351}, 'originalimage': {'source': 'https://upload.wikimedia.org/wikipedia/commons/thumb/c/c3/Python-logo-notext.svg/115px-Python-logo-notext.svg.png', 'width': 115, 'height': 126}, 'lang': 'en', 'dir': 'ltr', 'revision': '1254521266', 'tid': 'b16aa252-977e-11ef-814b-ec348d5d2704', 'timestamp': '2024-10-31T11:53:07Z', 'description': 'General-purpose programming language', 'description_source': 'local', 'content_urls': {'desktop': {'page': 'https://en.wikipedia.org/wiki/Python_(programming_language)', 'revisions': 'https://en.wikipedia.org/wiki/Python_(programming_language)?action=history', 'edit': 'https://en.wikipedia.org/wiki/Python_(programming_language)?action=edit', 'talk': 'https://en.wikipedia.org/wiki/Talk:Python_(programming_language)'}, 'mobile': {'page': 'https://en.m.wikipedia.org/wiki/Python_(programming_language)', 'revisions': 'https://en.m.wikipedia.org/wiki/Special:History/Python_(programming_language)', 'edit': 'https://en.m.wikipedia.org/wiki/Python_(programming_language)?action=edit', 'talk': 'https://en.m.wikipedia.org/wiki/Talk:Python_(programming_language)'}}, 'extract': 'Python is a high-level, general-purpose programming language. Its design philosophy emphasizes code readability with the use of significant indentation.', 'extract_html': '<p><b>Python</b> is a high-level, general-purpose programming language. Its design philosophy emphasizes code readability with the use of significant indentation.</p>'}\n"
     ]
    }
   ],
   "source": [
    "import requests\n",
    "\n",
    "def get_wikipedia_summary(title):\n",
    "    api_url = f\"https://en.wikipedia.org/api/rest_v1/page/summary/{title}\"\n",
    "    response = requests.get(api_url)\n",
    "    if response.status_code == 200:\n",
    "        return response.json()\n",
    "    else:\n",
    "        print(f\"Failed to fetch data. Status code: {response.status_code}\")\n",
    "        return None\n",
    "\n",
    "# Example usage\n",
    "title = \"Python_(programming_language)\"\n",
    "summary = get_wikipedia_summary(title)\n",
    "print(summary)\n"
   ]
  },
  {
   "cell_type": "markdown",
   "metadata": {},
   "source": [
    "This code provides a convenient way to retrieve a summary of a Wikipedia page programmatically. When you call get_wikipedia_summary(\"Python_(programming_language)\"), it will return a JSON object containing a brief description, content, and additional information about the specified page. If the API call fails, it will print an error message indicating the failure."
   ]
  },
  {
   "cell_type": "code",
   "execution_count": 9,
   "metadata": {},
   "outputs": [
    {
     "name": "stdout",
     "output_type": "stream",
     "text": [
      "Bot: **GitHub**\n",
      "\n",
      "**Overview**\n",
      "\n",
      "GitHub is a web-based platform for software development and version control. It allows users to host and collaborate on code projects, track changes, and manage code releases.\n",
      "\n",
      "**Key Features**\n",
      "\n",
      "* **Version Control:** GitHub uses Git, a distributed version control system, to track changes to code over time.\n",
      "* **Code Hosting:** Users can create repositories to store and share their code projects.\n",
      "* **Collaboration:** Multiple users can work on the same project simultaneously, with features like pull requests and issue tracking.\n",
      "* **Code Review:** GitHub provides tools for code review and feedback, allowing teams to work together effectively.\n",
      "* **Issue Tracking:** Users can create and manage issues related to the project, allowing for bug tracking and feature requests.\n",
      "* **Project Management:** GitHub offers basic project management features, such as milestones and labels, to help organize and track progress.\n",
      "* **Community:** GitHub has a large and active community of developers who share knowledge, contribute to projects, and provide support.\n",
      "\n",
      "**Benefits of Using GitHub**\n",
      "\n",
      "* **Version Control and Collaboration:** GitHub streamlines code management and collaboration, making it easy for teams to work together.\n",
      "* **Code Sharing:** Users can easily share code projects with others, both within and outside their organization.\n",
      "* **Open Source Contribution:** GitHub is a popular platform for open source projects, allowing developers to contribute to projects and share their work with the world.\n",
      "* **Code Review and Feedback:** GitHub's features facilitate code review and feedback, improving code quality and reducing errors.\n",
      "* **Community and Support:** The GitHub community provides valuable resources, support, and opportunities for learning and networking.\n",
      "\n",
      "**How to Use GitHub**\n",
      "\n",
      "To use GitHub, you need to:\n",
      "\n",
      "1. Create a GitHub account.\n",
      "2. Create a new repository for your project.\n",
      "3. Clone the repository to your local machine.\n",
      "4. Make changes to the code.\n",
      "5. Commit your changes and push them back to the repository.\n",
      "6. Share the repository with collaborators or make it public.\n",
      "\n",
      "GitHub offers a range of documentation, tutorials, and support resources to help users get started and make the most of the platform.\n",
      "Goodbye!\n"
     ]
    }
   ],
   "source": [
    "def chatbot():\n",
    "    while True:\n",
    "        # Get user input\n",
    "        query = input(\"You: \")\n",
    "\n",
    "        # Check if user wants to stop\n",
    "        if query.lower() in ['stop', 'exit', 'quit']:\n",
    "            print(\"Goodbye!\")\n",
    "            break\n",
    "\n",
    "        # Get response from Google Gemini via LangChain\n",
    "        gemini_response = llm.invoke(query)  # Pass the input as a string\n",
    "\n",
    "        # Print the response from Google Gemini\n",
    "        print(f\"Bot: {gemini_response.content}\")\n",
    "\n",
    "# Call the chatbot function\n",
    "chatbot()\n"
   ]
  },
  {
   "cell_type": "markdown",
   "metadata": {},
   "source": [
    "This code provides a basic framework for an interactive chatbot that continues to engage with the user until they choose to exit. The chatbot takes user input, checks for exit commands, and retrieves responses from a language model (Google Gemini in this case) to provide answers."
   ]
  }
 ],
 "metadata": {
  "kernelspec": {
   "display_name": "Python 3",
   "language": "python",
   "name": "python3"
  },
  "language_info": {
   "codemirror_mode": {
    "name": "ipython",
    "version": 3
   },
   "file_extension": ".py",
   "mimetype": "text/x-python",
   "name": "python",
   "nbconvert_exporter": "python",
   "pygments_lexer": "ipython3",
   "version": "3.12.4"
  }
 },
 "nbformat": 4,
 "nbformat_minor": 2
}
